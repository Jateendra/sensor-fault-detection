{
 "cells": [
  {
   "cell_type": "code",
   "execution_count": null,
   "metadata": {},
   "outputs": [],
   "source": [
    "######################## Reading Data from .yaml file ############################\n",
    "##################################################################################"
   ]
  },
  {
   "cell_type": "code",
   "execution_count": 46,
   "metadata": {},
   "outputs": [],
   "source": [
    "from sensor.utils.main_utils import read_yaml_file"
   ]
  },
  {
   "cell_type": "code",
   "execution_count": 47,
   "metadata": {},
   "outputs": [],
   "source": [
    "file_path=\"C:/Users/jatpradh/Documents/Proj_iNeuron/07_Sensor_Project/sensor-fault-detection/config/schema.yaml\""
   ]
  },
  {
   "cell_type": "code",
   "execution_count": 48,
   "metadata": {},
   "outputs": [],
   "source": [
    "schema_config = read_yaml_file(file_path=file_path)"
   ]
  },
  {
   "cell_type": "code",
   "execution_count": 50,
   "metadata": {},
   "outputs": [
    {
     "data": {
      "text/plain": [
       "164"
      ]
     },
     "execution_count": 50,
     "metadata": {},
     "output_type": "execute_result"
    }
   ],
   "source": [
    "len(schema_config['columns'])"
   ]
  },
  {
   "cell_type": "code",
   "execution_count": null,
   "metadata": {},
   "outputs": [],
   "source": [
    "######################## Drifting ############################\n",
    "##############################################################"
   ]
  },
  {
   "cell_type": "code",
   "execution_count": 2,
   "metadata": {},
   "outputs": [],
   "source": [
    "from scipy.stats import ks_2samp"
   ]
  },
  {
   "cell_type": "code",
   "execution_count": 3,
   "metadata": {},
   "outputs": [],
   "source": [
    "import numpy as np"
   ]
  },
  {
   "cell_type": "code",
   "execution_count": 11,
   "metadata": {},
   "outputs": [],
   "source": [
    "d1 = np.arange(10)\n",
    "d2 = np.arange(10)"
   ]
  },
  {
   "cell_type": "code",
   "execution_count": 12,
   "metadata": {},
   "outputs": [
    {
     "data": {
      "text/plain": [
       "array([0, 1, 2, 3, 4, 5, 6, 7, 8, 9])"
      ]
     },
     "execution_count": 12,
     "metadata": {},
     "output_type": "execute_result"
    }
   ],
   "source": [
    "d1"
   ]
  },
  {
   "cell_type": "code",
   "execution_count": 13,
   "metadata": {},
   "outputs": [
    {
     "data": {
      "text/plain": [
       "array([0, 1, 2, 3, 4, 5, 6, 7, 8, 9])"
      ]
     },
     "execution_count": 13,
     "metadata": {},
     "output_type": "execute_result"
    }
   ],
   "source": [
    "d2"
   ]
  },
  {
   "cell_type": "code",
   "execution_count": 14,
   "metadata": {},
   "outputs": [],
   "source": [
    "test = ks_2samp(d1,d2)"
   ]
  },
  {
   "cell_type": "code",
   "execution_count": 15,
   "metadata": {},
   "outputs": [
    {
     "data": {
      "text/plain": [
       "1.0"
      ]
     },
     "execution_count": 15,
     "metadata": {},
     "output_type": "execute_result"
    }
   ],
   "source": [
    "test.pvalue"
   ]
  },
  {
   "cell_type": "code",
   "execution_count": 23,
   "metadata": {},
   "outputs": [],
   "source": [
    "# The above scenario belongs to the same distribution ."
   ]
  },
  {
   "cell_type": "code",
   "execution_count": 16,
   "metadata": {},
   "outputs": [],
   "source": [
    "d1 = np.arange(100,200)\n",
    "d2 = np.arange(10)"
   ]
  },
  {
   "cell_type": "code",
   "execution_count": 17,
   "metadata": {},
   "outputs": [
    {
     "data": {
      "text/plain": [
       "array([100, 101, 102, 103, 104, 105, 106, 107, 108, 109, 110, 111, 112,\n",
       "       113, 114, 115, 116, 117, 118, 119, 120, 121, 122, 123, 124, 125,\n",
       "       126, 127, 128, 129, 130, 131, 132, 133, 134, 135, 136, 137, 138,\n",
       "       139, 140, 141, 142, 143, 144, 145, 146, 147, 148, 149, 150, 151,\n",
       "       152, 153, 154, 155, 156, 157, 158, 159, 160, 161, 162, 163, 164,\n",
       "       165, 166, 167, 168, 169, 170, 171, 172, 173, 174, 175, 176, 177,\n",
       "       178, 179, 180, 181, 182, 183, 184, 185, 186, 187, 188, 189, 190,\n",
       "       191, 192, 193, 194, 195, 196, 197, 198, 199])"
      ]
     },
     "execution_count": 17,
     "metadata": {},
     "output_type": "execute_result"
    }
   ],
   "source": [
    "d1"
   ]
  },
  {
   "cell_type": "code",
   "execution_count": 18,
   "metadata": {},
   "outputs": [
    {
     "data": {
      "text/plain": [
       "array([0, 1, 2, 3, 4, 5, 6, 7, 8, 9])"
      ]
     },
     "execution_count": 18,
     "metadata": {},
     "output_type": "execute_result"
    }
   ],
   "source": [
    "d2"
   ]
  },
  {
   "cell_type": "code",
   "execution_count": 22,
   "metadata": {},
   "outputs": [
    {
     "data": {
      "text/plain": [
       "KstestResult(statistic=1.0, pvalue=4.2646072253826637e-14)"
      ]
     },
     "execution_count": 22,
     "metadata": {},
     "output_type": "execute_result"
    }
   ],
   "source": [
    "ks_2samp(d1,d2)"
   ]
  },
  {
   "cell_type": "code",
   "execution_count": 19,
   "metadata": {},
   "outputs": [],
   "source": [
    "test = ks_2samp(d1,d2)"
   ]
  },
  {
   "cell_type": "code",
   "execution_count": 20,
   "metadata": {},
   "outputs": [
    {
     "data": {
      "text/plain": [
       "4.2646072253826637e-14"
      ]
     },
     "execution_count": 20,
     "metadata": {},
     "output_type": "execute_result"
    }
   ],
   "source": [
    "test.pvalue"
   ]
  },
  {
   "cell_type": "code",
   "execution_count": 21,
   "metadata": {},
   "outputs": [
    {
     "data": {
      "text/plain": [
       "0"
      ]
     },
     "execution_count": 21,
     "metadata": {},
     "output_type": "execute_result"
    }
   ],
   "source": [
    "round(test.pvalue)"
   ]
  },
  {
   "cell_type": "code",
   "execution_count": null,
   "metadata": {},
   "outputs": [],
   "source": [
    "# p-value < 0.05 , reject the NULL hypothesis . So data are not of same distribution ."
   ]
  },
  {
   "cell_type": "code",
   "execution_count": 25,
   "metadata": {},
   "outputs": [],
   "source": [
    "traing_file_path = \"C:/Users/jatpradh/Documents/Proj_iNeuron/07_Sensor_Project/sensor-fault-detection/artifact/11_03_2022_09_03_06/data_ingestion/ingested/train.csv\""
   ]
  },
  {
   "cell_type": "code",
   "execution_count": 26,
   "metadata": {},
   "outputs": [],
   "source": [
    "test_file_path = \"C:/Users/jatpradh/Documents/Proj_iNeuron/07_Sensor_Project/sensor-fault-detection/artifact/11_03_2022_09_03_06/data_ingestion/ingested/test.csv\""
   ]
  },
  {
   "cell_type": "code",
   "execution_count": 27,
   "metadata": {},
   "outputs": [],
   "source": [
    "import pandas as pd"
   ]
  },
  {
   "cell_type": "code",
   "execution_count": 28,
   "metadata": {},
   "outputs": [],
   "source": [
    "train_df = pd.read_csv(traing_file_path)\n",
    "test_df = pd.read_csv(test_file_path)"
   ]
  },
  {
   "cell_type": "code",
   "execution_count": 29,
   "metadata": {},
   "outputs": [
    {
     "data": {
      "text/plain": [
       "Index(['class', 'aa_000', 'ab_000', 'ac_000', 'ad_000', 'ae_000', 'af_000',\n",
       "       'ag_000', 'ag_001', 'ag_002',\n",
       "       ...\n",
       "       'ee_002', 'ee_003', 'ee_004', 'ee_005', 'ee_006', 'ee_007', 'ee_008',\n",
       "       'ee_009', 'ef_000', 'eg_000'],\n",
       "      dtype='object', length=171)"
      ]
     },
     "execution_count": 29,
     "metadata": {},
     "output_type": "execute_result"
    }
   ],
   "source": [
    "train_df.columns"
   ]
  },
  {
   "cell_type": "code",
   "execution_count": 30,
   "metadata": {},
   "outputs": [
    {
     "data": {
      "text/plain": [
       "Index(['class', 'aa_000', 'ab_000', 'ac_000', 'ad_000', 'ae_000', 'af_000',\n",
       "       'ag_000', 'ag_001', 'ag_002',\n",
       "       ...\n",
       "       'ee_002', 'ee_003', 'ee_004', 'ee_005', 'ee_006', 'ee_007', 'ee_008',\n",
       "       'ee_009', 'ef_000', 'eg_000'],\n",
       "      dtype='object', length=171)"
      ]
     },
     "execution_count": 30,
     "metadata": {},
     "output_type": "execute_result"
    }
   ],
   "source": [
    "test_df.columns"
   ]
  },
  {
   "cell_type": "code",
   "execution_count": 32,
   "metadata": {},
   "outputs": [
    {
     "data": {
      "text/plain": [
       "KstestResult(statistic=0.007858321260228118, pvalue=0.8768306597905058)"
      ]
     },
     "execution_count": 32,
     "metadata": {},
     "output_type": "execute_result"
    }
   ],
   "source": [
    "d1 = train_df['aa_000']\n",
    "d2  = test_df['aa_000']\n",
    "ks_2samp(d1,d2)"
   ]
  },
  {
   "cell_type": "code",
   "execution_count": null,
   "metadata": {},
   "outputs": [],
   "source": [
    "# p-value > 0.05 , Accept the NULL hypothesis . So data are of same distribution ."
   ]
  },
  {
   "cell_type": "code",
   "execution_count": 33,
   "metadata": {},
   "outputs": [
    {
     "data": {
      "text/plain": [
       "KstestResult(statistic=0.003217938253718855, pvalue=0.9999999912830789)"
      ]
     },
     "execution_count": 33,
     "metadata": {},
     "output_type": "execute_result"
    }
   ],
   "source": [
    "d1 = train_df['class']\n",
    "d2  = test_df['class']\n",
    "ks_2samp(d1,d2)"
   ]
  },
  {
   "cell_type": "code",
   "execution_count": 34,
   "metadata": {},
   "outputs": [],
   "source": [
    "# p-value > 0.05 , Accept the NULL hypothesis . So data are of same distribution ."
   ]
  },
  {
   "cell_type": "code",
   "execution_count": null,
   "metadata": {},
   "outputs": [],
   "source": [
    "#Now do it for every column - To find the data drifts"
   ]
  },
  {
   "cell_type": "code",
   "execution_count": 35,
   "metadata": {},
   "outputs": [],
   "source": [
    "columns = list(train_df.columns)"
   ]
  },
  {
   "cell_type": "code",
   "execution_count": 36,
   "metadata": {},
   "outputs": [
    {
     "data": {
      "text/plain": [
       "KstestResult(statistic=0.003217938253718855, pvalue=0.9999999912830789)"
      ]
     },
     "execution_count": 36,
     "metadata": {},
     "output_type": "execute_result"
    }
   ],
   "source": [
    "d1 = train_df['class']\n",
    "d2  = test_df['class']\n",
    "ks_2samp(d1,d2)"
   ]
  },
  {
   "cell_type": "code",
   "execution_count": null,
   "metadata": {},
   "outputs": [],
   "source": [
    "# For all columns -2"
   ]
  },
  {
   "cell_type": "code",
   "execution_count": 37,
   "metadata": {},
   "outputs": [],
   "source": [
    "def get_drift_report(base_df,current_df,threshold=0.05):\n",
    "    report ={}\n",
    "    for column in base_df.columns:\n",
    "        d1 = base_df[column]\n",
    "        d2  = current_df[column]\n",
    "        is_same_dist = ks_2samp(d1,d2)\n",
    "        if threshold<=is_same_dist.pvalue:\n",
    "            is_found=False\n",
    "        else:\n",
    "            is_found = True \n",
    "        report.update({column:{\n",
    "            \"p_value\":float(is_same_dist.pvalue),\n",
    "            \"drift_status\":is_found\n",
    "            \n",
    "            }})\n",
    "    return report"
   ]
  },
  {
   "cell_type": "code",
   "execution_count": 38,
   "metadata": {},
   "outputs": [],
   "source": [
    "drift_report = get_drift_report(train_df,test_df)"
   ]
  },
  {
   "cell_type": "code",
   "execution_count": 39,
   "metadata": {},
   "outputs": [
    {
     "data": {
      "text/plain": [
       "{'class': {'p_value': 0.9999999912830789, 'drift_status': False},\n",
       " 'aa_000': {'p_value': 0.8768306597905058, 'drift_status': False},\n",
       " 'ab_000': {'p_value': 0.9999007671615837, 'drift_status': False},\n",
       " 'ac_000': {'p_value': 0.9503144337017586, 'drift_status': False},\n",
       " 'ad_000': {'p_value': 0.8813649366776779, 'drift_status': False},\n",
       " 'ae_000': {'p_value': 0.9986571726562143, 'drift_status': False},\n",
       " 'af_000': {'p_value': 0.9959643069937159, 'drift_status': False},\n",
       " 'ag_000': {'p_value': 1.0, 'drift_status': False},\n",
       " 'ag_001': {'p_value': 0.9987532082366527, 'drift_status': False},\n",
       " 'ag_002': {'p_value': 0.9326228061418614, 'drift_status': False},\n",
       " 'ag_003': {'p_value': 0.9163655451274716, 'drift_status': False},\n",
       " 'ag_004': {'p_value': 0.349868660740847, 'drift_status': False},\n",
       " 'ag_005': {'p_value': 0.45413832648726893, 'drift_status': False},\n",
       " 'ag_006': {'p_value': 0.841348320289216, 'drift_status': False},\n",
       " 'ag_007': {'p_value': 0.5706718891342062, 'drift_status': False},\n",
       " 'ag_008': {'p_value': 0.6186812448935448, 'drift_status': False},\n",
       " 'ag_009': {'p_value': 0.5330868355506488, 'drift_status': False},\n",
       " 'ah_000': {'p_value': 0.6541657889160231, 'drift_status': False},\n",
       " 'ai_000': {'p_value': 0.9905388723779557, 'drift_status': False},\n",
       " 'aj_000': {'p_value': 0.999999709737294, 'drift_status': False},\n",
       " 'ak_000': {'p_value': 1.0, 'drift_status': False},\n",
       " 'al_000': {'p_value': 0.9936260825346804, 'drift_status': False},\n",
       " 'am_0': {'p_value': 0.9694151890470162, 'drift_status': False},\n",
       " 'an_000': {'p_value': 0.7342345782572022, 'drift_status': False},\n",
       " 'ao_000': {'p_value': 0.5284551166239961, 'drift_status': False},\n",
       " 'ap_000': {'p_value': 0.746009461828433, 'drift_status': False},\n",
       " 'aq_000': {'p_value': 0.4970269116525673, 'drift_status': False},\n",
       " 'ar_000': {'p_value': 0.9948267048327835, 'drift_status': False},\n",
       " 'as_000': {'p_value': 1.0, 'drift_status': False},\n",
       " 'at_000': {'p_value': 0.999978904489651, 'drift_status': False},\n",
       " 'au_000': {'p_value': 1.0, 'drift_status': False},\n",
       " 'av_000': {'p_value': 0.9703929568476, 'drift_status': False},\n",
       " 'ax_000': {'p_value': 0.7233333005080409, 'drift_status': False},\n",
       " 'ay_000': {'p_value': 1.0, 'drift_status': False},\n",
       " 'ay_001': {'p_value': 0.9999999999999952, 'drift_status': False},\n",
       " 'ay_002': {'p_value': 0.9999999969169537, 'drift_status': False},\n",
       " 'ay_003': {'p_value': 0.9999999988639598, 'drift_status': False},\n",
       " 'ay_004': {'p_value': 0.9992485326869427, 'drift_status': False},\n",
       " 'ay_005': {'p_value': 0.5497690315783688, 'drift_status': False},\n",
       " 'ay_006': {'p_value': 0.4618969410386147, 'drift_status': False},\n",
       " 'ay_007': {'p_value': 0.6606265053986177, 'drift_status': False},\n",
       " 'ay_008': {'p_value': 0.6712321844761469, 'drift_status': False},\n",
       " 'ay_009': {'p_value': 0.9999997137942884, 'drift_status': False},\n",
       " 'az_000': {'p_value': 0.9573162031610487, 'drift_status': False},\n",
       " 'az_001': {'p_value': 0.9065909494972682, 'drift_status': False},\n",
       " 'az_002': {'p_value': 0.6086772240079501, 'drift_status': False},\n",
       " 'az_003': {'p_value': 0.20641063194460774, 'drift_status': False},\n",
       " 'az_004': {'p_value': 0.6929976889361599, 'drift_status': False},\n",
       " 'az_005': {'p_value': 0.6530194349772979, 'drift_status': False},\n",
       " 'az_006': {'p_value': 0.41113015353585003, 'drift_status': False},\n",
       " 'az_007': {'p_value': 0.9968689991093967, 'drift_status': False},\n",
       " 'az_008': {'p_value': 0.9999999937259358, 'drift_status': False},\n",
       " 'az_009': {'p_value': 1.0, 'drift_status': False},\n",
       " 'ba_000': {'p_value': 0.5597791331879041, 'drift_status': False},\n",
       " 'ba_001': {'p_value': 0.7172627414516404, 'drift_status': False},\n",
       " 'ba_002': {'p_value': 0.7548103832035684, 'drift_status': False},\n",
       " 'ba_003': {'p_value': 0.7647890899210713, 'drift_status': False},\n",
       " 'ba_004': {'p_value': 0.5850934069759093, 'drift_status': False},\n",
       " 'ba_005': {'p_value': 0.6300435215260989, 'drift_status': False},\n",
       " 'ba_006': {'p_value': 0.707435683792485, 'drift_status': False},\n",
       " 'ba_007': {'p_value': 0.4461872948655221, 'drift_status': False},\n",
       " 'ba_008': {'p_value': 0.3856162711869383, 'drift_status': False},\n",
       " 'ba_009': {'p_value': 0.6818498029037731, 'drift_status': False},\n",
       " 'bb_000': {'p_value': 0.7774748504701264, 'drift_status': False},\n",
       " 'bc_000': {'p_value': 0.8181941604010802, 'drift_status': False},\n",
       " 'bd_000': {'p_value': 0.7809590749355262, 'drift_status': False},\n",
       " 'be_000': {'p_value': 0.8842764971163476, 'drift_status': False},\n",
       " 'bf_000': {'p_value': 0.9844689791946943, 'drift_status': False},\n",
       " 'bg_000': {'p_value': 0.6361346884910879, 'drift_status': False},\n",
       " 'bh_000': {'p_value': 0.44396156488889693, 'drift_status': False},\n",
       " 'bi_000': {'p_value': 0.675737935304671, 'drift_status': False},\n",
       " 'bj_000': {'p_value': 0.7345456857881953, 'drift_status': False},\n",
       " 'bk_000': {'p_value': 0.30225951577820687, 'drift_status': False},\n",
       " 'bl_000': {'p_value': 0.9915123360781667, 'drift_status': False},\n",
       " 'bm_000': {'p_value': 0.9954213720474918, 'drift_status': False},\n",
       " 'bn_000': {'p_value': 0.9176607165199957, 'drift_status': False},\n",
       " 'bo_000': {'p_value': 0.7813592151419944, 'drift_status': False},\n",
       " 'bp_000': {'p_value': 0.8741276991346792, 'drift_status': False},\n",
       " 'bq_000': {'p_value': 0.9556885656047089, 'drift_status': False},\n",
       " 'br_000': {'p_value': 0.9956021203891405, 'drift_status': False},\n",
       " 'bs_000': {'p_value': 0.8741208512469971, 'drift_status': False},\n",
       " 'bt_000': {'p_value': 0.8629074795368961, 'drift_status': False},\n",
       " 'bu_000': {'p_value': 0.7299622163420931, 'drift_status': False},\n",
       " 'bv_000': {'p_value': 0.7299622163420931, 'drift_status': False},\n",
       " 'bx_000': {'p_value': 0.6741206564195821, 'drift_status': False},\n",
       " 'by_000': {'p_value': 0.6611422193432795, 'drift_status': False},\n",
       " 'bz_000': {'p_value': 0.9430324720471547, 'drift_status': False},\n",
       " 'ca_000': {'p_value': 0.8023111439527291, 'drift_status': False},\n",
       " 'cb_000': {'p_value': 0.5552166543755506, 'drift_status': False},\n",
       " 'cc_000': {'p_value': 0.6569330251831271, 'drift_status': False},\n",
       " 'cd_000': {'p_value': 1.0, 'drift_status': False},\n",
       " 'ce_000': {'p_value': 0.6496756558064052, 'drift_status': False},\n",
       " 'cf_000': {'p_value': 0.6829300589162007, 'drift_status': False},\n",
       " 'cg_000': {'p_value': 0.9284004329240304, 'drift_status': False},\n",
       " 'ch_000': {'p_value': 1.0, 'drift_status': False},\n",
       " 'ci_000': {'p_value': 0.6275844207611477, 'drift_status': False},\n",
       " 'cj_000': {'p_value': 0.3899935044522972, 'drift_status': False},\n",
       " 'ck_000': {'p_value': 0.16921312248530462, 'drift_status': False},\n",
       " 'cl_000': {'p_value': 0.9329350873636104, 'drift_status': False},\n",
       " 'cm_000': {'p_value': 0.9941742481382856, 'drift_status': False},\n",
       " 'cn_000': {'p_value': 0.9588418365456595, 'drift_status': False},\n",
       " 'cn_001': {'p_value': 0.900914754957287, 'drift_status': False},\n",
       " 'cn_002': {'p_value': 0.9342855300934918, 'drift_status': False},\n",
       " 'cn_003': {'p_value': 0.3258485930839853, 'drift_status': False},\n",
       " 'cn_004': {'p_value': 0.8311248918928931, 'drift_status': False},\n",
       " 'cn_005': {'p_value': 0.8859259107389457, 'drift_status': False},\n",
       " 'cn_006': {'p_value': 0.7133704545918276, 'drift_status': False},\n",
       " 'cn_007': {'p_value': 0.8782399035805584, 'drift_status': False},\n",
       " 'cn_008': {'p_value': 0.6997115932677844, 'drift_status': False},\n",
       " 'cn_009': {'p_value': 0.5960905216686918, 'drift_status': False},\n",
       " 'co_000': {'p_value': 0.9927209511172287, 'drift_status': False},\n",
       " 'cp_000': {'p_value': 0.8720274504741397, 'drift_status': False},\n",
       " 'cq_000': {'p_value': 0.7299622163420931, 'drift_status': False},\n",
       " 'cr_000': {'p_value': 0.9984440632907705, 'drift_status': False},\n",
       " 'cs_000': {'p_value': 0.6692374727379369, 'drift_status': False},\n",
       " 'cs_001': {'p_value': 0.38736184133535656, 'drift_status': False},\n",
       " 'cs_002': {'p_value': 0.5030078344792801, 'drift_status': False},\n",
       " 'cs_003': {'p_value': 0.6685806053325356, 'drift_status': False},\n",
       " 'cs_004': {'p_value': 0.5694177541119478, 'drift_status': False},\n",
       " 'cs_005': {'p_value': 0.4193776576998537, 'drift_status': False},\n",
       " 'cs_006': {'p_value': 0.7098467462672663, 'drift_status': False},\n",
       " 'cs_007': {'p_value': 0.8677014265531441, 'drift_status': False},\n",
       " 'cs_008': {'p_value': 0.5561582282170041, 'drift_status': False},\n",
       " 'cs_009': {'p_value': 0.999999998934228, 'drift_status': False},\n",
       " 'ct_000': {'p_value': 0.9283558970972976, 'drift_status': False},\n",
       " 'cu_000': {'p_value': 0.6615111275707932, 'drift_status': False},\n",
       " 'cv_000': {'p_value': 0.7113954758195846, 'drift_status': False},\n",
       " 'cx_000': {'p_value': 0.9933197139578666, 'drift_status': False},\n",
       " 'cy_000': {'p_value': 0.999877025550091, 'drift_status': False},\n",
       " 'cz_000': {'p_value': 0.31206795755001715, 'drift_status': False},\n",
       " 'da_000': {'p_value': 0.9999998011075301, 'drift_status': False},\n",
       " 'db_000': {'p_value': 0.27142839614060255, 'drift_status': False},\n",
       " 'dc_000': {'p_value': 0.6754345682980973, 'drift_status': False},\n",
       " 'dd_000': {'p_value': 0.5814689155049352, 'drift_status': False},\n",
       " 'de_000': {'p_value': 0.824195642542298, 'drift_status': False},\n",
       " 'df_000': {'p_value': 1.0, 'drift_status': False},\n",
       " 'dg_000': {'p_value': 0.9999999999746807, 'drift_status': False},\n",
       " 'dh_000': {'p_value': 0.999166259895983, 'drift_status': False},\n",
       " 'di_000': {'p_value': 0.7903686258504528, 'drift_status': False},\n",
       " 'dj_000': {'p_value': 1.0, 'drift_status': False},\n",
       " 'dk_000': {'p_value': 1.0, 'drift_status': False},\n",
       " 'dl_000': {'p_value': 1.0, 'drift_status': False},\n",
       " 'dm_000': {'p_value': 1.0, 'drift_status': False},\n",
       " 'dn_000': {'p_value': 0.4676525051224635, 'drift_status': False},\n",
       " 'do_000': {'p_value': 0.9847104443396942, 'drift_status': False},\n",
       " 'dp_000': {'p_value': 0.9987815074170395, 'drift_status': False},\n",
       " 'dq_000': {'p_value': 0.9997866991702904, 'drift_status': False},\n",
       " 'dr_000': {'p_value': 0.9995683006863335, 'drift_status': False},\n",
       " 'ds_000': {'p_value': 0.7246187855518361, 'drift_status': False},\n",
       " 'dt_000': {'p_value': 0.7777206858272104, 'drift_status': False},\n",
       " 'du_000': {'p_value': 0.6127680044933099, 'drift_status': False},\n",
       " 'dv_000': {'p_value': 0.4579072546800813, 'drift_status': False},\n",
       " 'dx_000': {'p_value': 0.9891768519105383, 'drift_status': False},\n",
       " 'dy_000': {'p_value': 0.8250574960096839, 'drift_status': False},\n",
       " 'dz_000': {'p_value': 0.983503083864048, 'drift_status': False},\n",
       " 'ea_000': {'p_value': 0.9872253701388691, 'drift_status': False},\n",
       " 'eb_000': {'p_value': 0.9167465561018803, 'drift_status': False},\n",
       " 'ec_00': {'p_value': 0.5192979439349781, 'drift_status': False},\n",
       " 'ed_000': {'p_value': 0.6300949632814022, 'drift_status': False},\n",
       " 'ee_000': {'p_value': 0.2598171988792073, 'drift_status': False},\n",
       " 'ee_001': {'p_value': 0.7369275728288944, 'drift_status': False},\n",
       " 'ee_002': {'p_value': 0.9626623840308525, 'drift_status': False},\n",
       " 'ee_003': {'p_value': 0.9067528168647994, 'drift_status': False},\n",
       " 'ee_004': {'p_value': 0.7672021426152265, 'drift_status': False},\n",
       " 'ee_005': {'p_value': 0.8000802575716776, 'drift_status': False},\n",
       " 'ee_006': {'p_value': 0.5932272257828348, 'drift_status': False},\n",
       " 'ee_007': {'p_value': 0.3858289867896193, 'drift_status': False},\n",
       " 'ee_008': {'p_value': 0.37329920362223445, 'drift_status': False},\n",
       " 'ee_009': {'p_value': 0.3976797815581672, 'drift_status': False},\n",
       " 'ef_000': {'p_value': 0.9996663206891885, 'drift_status': False},\n",
       " 'eg_000': {'p_value': 0.9996153231976538, 'drift_status': False}}"
      ]
     },
     "execution_count": 39,
     "metadata": {},
     "output_type": "execute_result"
    }
   ],
   "source": [
    "drift_report"
   ]
  },
  {
   "cell_type": "code",
   "execution_count": 41,
   "metadata": {},
   "outputs": [],
   "source": [
    "# Export the report to .yaml file"
   ]
  },
  {
   "cell_type": "code",
   "execution_count": 42,
   "metadata": {},
   "outputs": [],
   "source": [
    "from sensor.utils.main_utils import write_yaml_file"
   ]
  },
  {
   "cell_type": "code",
   "execution_count": 43,
   "metadata": {},
   "outputs": [],
   "source": [
    "drift_report = get_drift_report(train_df,test_df)"
   ]
  },
  {
   "cell_type": "code",
   "execution_count": 44,
   "metadata": {},
   "outputs": [],
   "source": [
    "import os"
   ]
  },
  {
   "cell_type": "code",
   "execution_count": 45,
   "metadata": {},
   "outputs": [],
   "source": [
    "write_yaml_file(file_path=os.path.join(os.getcwd(),\"Handle_Data-Drift_report.yaml\"),content=drift_report,replace=True)"
   ]
  },
  {
   "cell_type": "code",
   "execution_count": null,
   "metadata": {},
   "outputs": [],
   "source": [
    "################################ Target Value Mapping ############################\n",
    "##################################################################################"
   ]
  },
  {
   "cell_type": "code",
   "execution_count": 1,
   "metadata": {},
   "outputs": [],
   "source": [
    "from sensor.ml.model.estimator import TargetValueMapping"
   ]
  },
  {
   "cell_type": "code",
   "execution_count": 3,
   "metadata": {},
   "outputs": [
    {
     "data": {
      "text/plain": [
       "{'neg': 0, 'pos': 1}"
      ]
     },
     "execution_count": 3,
     "metadata": {},
     "output_type": "execute_result"
    }
   ],
   "source": [
    "TargetValueMapping().to_dict()"
   ]
  },
  {
   "cell_type": "code",
   "execution_count": 4,
   "metadata": {},
   "outputs": [
    {
     "data": {
      "text/plain": [
       "{0: 'neg', 1: 'pos'}"
      ]
     },
     "execution_count": 4,
     "metadata": {},
     "output_type": "execute_result"
    }
   ],
   "source": [
    "TargetValueMapping().reverse_mapping()"
   ]
  }
 ],
 "metadata": {
  "kernelspec": {
   "display_name": "Python 3.8.0 (conda)",
   "language": "python",
   "name": "python3"
  },
  "language_info": {
   "codemirror_mode": {
    "name": "ipython",
    "version": 3
   },
   "file_extension": ".py",
   "mimetype": "text/x-python",
   "name": "python",
   "nbconvert_exporter": "python",
   "pygments_lexer": "ipython3",
   "version": "3.8.0"
  },
  "orig_nbformat": 4,
  "vscode": {
   "interpreter": {
    "hash": "760b379644545d436ceb1b40ad0374867bc6e17b8d0b24f01d4e77fb6b44b7ea"
   }
  }
 },
 "nbformat": 4,
 "nbformat_minor": 2
}
